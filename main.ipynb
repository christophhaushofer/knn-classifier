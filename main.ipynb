{
 "cells": [
  {
   "cell_type": "markdown",
   "metadata": {},
   "source": [
    "A simple KNN Classifier"
   ]
  },
  {
   "cell_type": "code",
   "execution_count": 1,
   "metadata": {},
   "outputs": [],
   "source": [
    "import math\n",
    "from collections import Counter "
   ]
  },
  {
   "cell_type": "code",
   "execution_count": 2,
   "metadata": {},
   "outputs": [],
   "source": [
    "def scale(x):\n",
    "    ''' scale Numbers for further calculation'''\n",
    "    sc_mean = sum(x) / len(x)\n",
    "    sc_max = max(x)\n",
    "    sc_min = min(x)\n",
    "    \n",
    "    scaled = [(x_i - sc_min) / (sc_max - sc_min) for x_i in x]\n",
    "    return(scaled)"
   ]
  },
  {
   "cell_type": "code",
   "execution_count": 3,
   "metadata": {},
   "outputs": [],
   "source": [
    "def euclidian_dist(x_i, y_i,X,Y):\n",
    "    ''' calculate the eucledian Distances'''\n",
    "    euclidian = [math.sqrt((x_i - x)**2 + (y_i - y)**2) for x,y in zip(X,Y)]\n",
    "    return(euclidian)"
   ]
  },
  {
   "cell_type": "code",
   "execution_count": 83,
   "metadata": {},
   "outputs": [],
   "source": [
    "def calc_dist(x_i, y_i, X, Y):\n",
    "    ''' calculate and returns the eucledian \n",
    "    Distances to a given point (x_i, y_i)'''\n",
    "    X.append(x_i)\n",
    "    Y.append(y_i)\n",
    "    sc_x = scale(X)\n",
    "    sc_x_i = sc_x[-1]\n",
    "    sc_x_j = sc_x[:-1]\n",
    "    sc_y = scale(Y)\n",
    "    sc_y_i = sc_y[-1]\n",
    "    sc_y_j = sc_y[:-1]\n",
    "    \n",
    "    dist = euclidian_dist(sc_x_i, sc_y_i,sc_x_j, sc_y_j)\n",
    "\n",
    "    return dist"
   ]
  },
  {
   "cell_type": "code",
   "execution_count": 79,
   "metadata": {},
   "outputs": [],
   "source": [
    "def get_knn(k, x_i, y_i, X, Y, Z):\n",
    "    # calculate the distances from x_i and y_i to all given points\n",
    "    dist = calc_dist(x_i, y_i, X, Y)\n",
    "    # sort the list of distances desc and pick the first k entries\n",
    "    print(X,Y)\n",
    "    if k == 1:\n",
    "        nn = Z[dist.index(sorted(dist)[0])]\n",
    "        return nn\n",
    "    else:\n",
    "        nn = [Z[dist.index(sorted(dist)[x])] for x in range(k)]\n",
    "        # lookup for the most counted variable\n",
    "        c = Counter(nn).most_common(1)\n",
    "        return c[0][0]"
   ]
  },
  {
   "cell_type": "code",
   "execution_count": 96,
   "metadata": {},
   "outputs": [],
   "source": [
    "## Example: given data points (age, income and \"is house owner\")\n",
    "age = [23,37,48,52,28,25,35,32,20,40]\n",
    "income = [50000, 34000, 40000, 30000, 95000, 78000, 130000, 105000, 100000, 60000]\n",
    "owns_house = [\"No\",\"No\",\"Yes\",\"No\",\"Yes\",\"No\",\"Yes\",\"Yes\",\"No\",\"Yes\"]\n",
    "\n",
    "## for a new datapoint, we want to determine if he/she, given data abbout age and income, probably owns a house\n",
    "age_i = 50\n",
    "income_i = 80000"
   ]
  },
  {
   "cell_type": "code",
   "execution_count": 86,
   "metadata": {},
   "outputs": [
    {
     "name": "stdout",
     "output_type": "stream",
     "text": [
      "[23, 37, 48, 52, 28, 25, 35, 32, 20, 40, 50] [50000, 34000, 40000, 30000, 95000, 78000, 130000, 105000, 100000, 60000, 80000]\n"
     ]
    },
    {
     "data": {
      "text/plain": [
       "'Yes'"
      ]
     },
     "execution_count": 86,
     "metadata": {},
     "output_type": "execute_result"
    }
   ],
   "source": [
    "k = 3\n",
    "get_knn(k,age_i, income_i, age, income, owns_house)"
   ]
  }
 ],
 "metadata": {
  "kernelspec": {
   "display_name": "Python 3",
   "language": "python",
   "name": "python3"
  },
  "language_info": {
   "codemirror_mode": {
    "name": "ipython",
    "version": 3
   },
   "file_extension": ".py",
   "mimetype": "text/x-python",
   "name": "python",
   "nbconvert_exporter": "python",
   "pygments_lexer": "ipython3",
   "version": "3.7.0"
  }
 },
 "nbformat": 4,
 "nbformat_minor": 2
}
